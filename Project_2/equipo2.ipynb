{
 "cells": [
  {
   "cell_type": "code",
   "execution_count": 1,
   "metadata": {},
   "outputs": [],
   "source": [
    "from selenium import webdriver\n",
    "from selenium.webdriver.common.keys import Keys\n",
    "from selenium.webdriver.common.by import By"
   ]
  },
  {
   "cell_type": "code",
   "execution_count": 2,
   "metadata": {},
   "outputs": [
    {
     "name": "stdout",
     "output_type": "stream",
     "text": [
      "Input:dog\n"
     ]
    }
   ],
   "source": [
    "num = input (\"Input:\") \n",
    "browser = webdriver.Chrome()\n",
    "browser.get(\"http://image-net.org/\")\n",
    "inputElems = browser.find_elements_by_id('searchbox')\n",
    "for inputElem in inputElems:\n",
    "    inputElem.send_keys(num)\n",
    "    inputElem.send_keys(Keys.ENTER)\n",
    "    \n",
    "result = browser.find_element_by_xpath(\"//span[@class='result_synset']\")\n",
    "result.click()"
   ]
  },
  {
   "cell_type": "code",
   "execution_count": 3,
   "metadata": {},
   "outputs": [],
   "source": [
    "# TODO: usar los URLs del query del codigo de arriba (quitar los hardcodeados)\n",
    "\n",
    "# initialize the list of image URLs to download\n",
    "urls = [\n",
    "    \"https://pyimagesearch.com/wp-content/uploads/2015/01/opencv_logo.png\",\n",
    "    \"https://pyimagesearch.com/wp-content/uploads/2015/01/google_logo.png\",\n",
    "    \"https://pyimagesearch.com/wp-content/uploads/2014/12/adrian_face_detection_sidebar.png\",\n",
    "]"
   ]
  },
  {
   "cell_type": "code",
   "execution_count": 4,
   "metadata": {},
   "outputs": [],
   "source": [
    "import numpy as np\n",
    "import urllib\n",
    "import cv2\n",
    "\n",
    "# Function to convert an URL to image\n",
    "def url_to_image(url):\n",
    "    # download the image, convert it to a NumPy array, and then read it into OpenCV format\n",
    "    resp = urllib.request.urlopen(url)\n",
    "    image = np.asarray(bytearray(resp.read()), dtype=\"uint8\")\n",
    "    image = cv2.imdecode(image, cv2.IMREAD_COLOR)\n",
    "    return image\n",
    "\n",
    "# Function to save image files to the current working directory, given an array of image URLS\n",
    "def save_images(urls):\n",
    "    for url in urls:\n",
    "        image = url_to_image(url)\n",
    "        # Use string after last '/' in URL as the filename for the image\n",
    "        filename = url.rsplit(\"/\",1)[1]\n",
    "        cv2.imwrite(filename, image)"
   ]
  },
  {
   "cell_type": "code",
   "execution_count": 5,
   "metadata": {},
   "outputs": [],
   "source": [
    "import os\n",
    "\n",
    "base_dir = os.getcwd()\n",
    "\n",
    "# Create directories for the images if they don't already exist\n",
    "for directory in (\"train/\", \"test/\"):\n",
    "    if not os.path.exists(directory + num):\n",
    "        os.makedirs(directory + num)\n",
    "\n",
    "# Get index to split training and test data (80% & 20%)\n",
    "data_split_index = round(len(urls) * 0.8)\n",
    "\n",
    "# Save training images to corresponding directory\n",
    "os.chdir(\"train/\" + num)\n",
    "save_images(urls[0:data_split_index])\n",
    "\n",
    "# Save test images to corresponding directory\n",
    "os.chdir(base_dir + \"/test/\" + num)\n",
    "save_images(urls[data_split_index:])\n",
    "\n",
    "# Change working directory back to the base directory\n",
    "os.chdir(base_dir)"
   ]
  },
  {
   "cell_type": "code",
   "execution_count": null,
   "metadata": {},
   "outputs": [],
   "source": []
  }
 ],
 "metadata": {
  "kernelspec": {
   "display_name": "Python 3",
   "language": "python",
   "name": "python3"
  },
  "language_info": {
   "codemirror_mode": {
    "name": "ipython",
    "version": 3
   },
   "file_extension": ".py",
   "mimetype": "text/x-python",
   "name": "python",
   "nbconvert_exporter": "python",
   "pygments_lexer": "ipython3",
   "version": "3.8.5"
  }
 },
 "nbformat": 4,
 "nbformat_minor": 4
}
