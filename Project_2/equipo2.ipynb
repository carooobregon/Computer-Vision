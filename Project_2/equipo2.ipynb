{
 "cells": [
  {
   "cell_type": "code",
   "execution_count": 1,
   "metadata": {},
   "outputs": [],
   "source": [
    "from selenium import webdriver\n",
    "from selenium.webdriver.common.keys import Keys\n",
    "from selenium.webdriver.common.by import By"
   ]
  },
  {
   "cell_type": "code",
   "execution_count": 2,
   "metadata": {},
   "outputs": [
    {
     "name": "stdout",
     "output_type": "stream",
     "text": [
      "Input:dog\n"
     ]
    }
   ],
   "source": [
    "num = input (\"Input:\") \n",
    "browser = webdriver.Chrome()\n",
    "browser.get(\"http://image-net.org/\")\n",
    "inputElems = browser.find_elements_by_id('searchbox')\n",
    "for inputElem in inputElems:\n",
    "    inputElem.send_keys(num)\n",
    "    inputElem.send_keys(Keys.ENTER)\n",
    "    \n",
    "result = browser.find_element_by_xpath(\"//span[@class='result_synset']\")\n",
    "result.click()"
   ]
  }
 ],
 "metadata": {
  "kernelspec": {
   "display_name": "Python 3",
   "language": "python",
   "name": "python3"
  },
  "language_info": {
   "codemirror_mode": {
    "name": "ipython",
    "version": 3
   },
   "file_extension": ".py",
   "mimetype": "text/x-python",
   "name": "python",
   "nbconvert_exporter": "python",
   "pygments_lexer": "ipython3",
   "version": "3.8.5"
  }
 },
 "nbformat": 4,
 "nbformat_minor": 4
}
